{
 "cells": [
  {
   "cell_type": "code",
   "execution_count": 1,
   "id": "87fa4b30",
   "metadata": {},
   "outputs": [],
   "source": [
    "def bubble_sort(arr):\n",
    "    n = len(arr)\n",
    "    for p in range(1, n): # loop(p : 1 -> n - 1)\n",
    "        for i in range(0, n - p): # loop(i : 0 -> n - p - 1)\n",
    "            if arr[i] > arr[i + 1]:\n",
    "                arr[i], arr[i + 1] = arr[i + 1], arr[i]"
   ]
  },
  {
   "cell_type": "code",
   "execution_count": null,
   "id": "cd4165b4",
   "metadata": {},
   "outputs": [],
   "source": [
    "def bubble_sort_improved(arr):\n",
    "    n = len(arr)\n",
    "\n",
    "    for p in range(1, n): # loop(p : 1 -> n - 1)\n",
    "\n",
    "        flag = False\n",
    "\n",
    "        for i in range(0, n - p): # loop(i : 0 -> n - p - 1)\n",
    "            if arr[i] > arr[i + 1]:\n",
    "                arr[i], arr[i + 1] = arr[i + 1], arr[i]\n",
    "                flag = True\n",
    "\n",
    "        if flag == False:\n",
    "            break"
   ]
  },
  {
   "cell_type": "code",
   "execution_count": 4,
   "id": "8f591a2f",
   "metadata": {},
   "outputs": [
    {
     "name": "stdout",
     "output_type": "stream",
     "text": [
      "[1, 2, 3, 4, 5, 7]\n"
     ]
    }
   ],
   "source": [
    "l = [2, 7, 4, 1, 5, 3] # input list\n",
    "bubble_sort(l)\n",
    "print(l)"
   ]
  },
  {
   "cell_type": "code",
   "execution_count": 6,
   "id": "69de4adf",
   "metadata": {},
   "outputs": [
    {
     "name": "stdout",
     "output_type": "stream",
     "text": [
      "[1, 2, 3, 4, 9, 47]\n"
     ]
    }
   ],
   "source": [
    "l = [2, 9, 4, 1, 47, 3] # input list\n",
    "bubble_sort_improved(l)\n",
    "print(l)"
   ]
  }
 ],
 "metadata": {
  "kernelspec": {
   "display_name": "Python 3",
   "language": "python",
   "name": "python3"
  },
  "language_info": {
   "codemirror_mode": {
    "name": "ipython",
    "version": 3
   },
   "file_extension": ".py",
   "mimetype": "text/x-python",
   "name": "python",
   "nbconvert_exporter": "python",
   "pygments_lexer": "ipython3",
   "version": "3.11.5"
  }
 },
 "nbformat": 4,
 "nbformat_minor": 5
}
