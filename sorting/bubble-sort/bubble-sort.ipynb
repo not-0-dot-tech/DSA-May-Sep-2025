{
 "cells": [
  {
   "cell_type": "code",
   "execution_count": 1,
   "id": "87fa4b30",
   "metadata": {},
   "outputs": [],
   "source": [
    "def bubble_sort(arr):\n",
    "    n = len(arr)\n",
    "    for p in range(1, n): # loop(p : 1 -> n - 1)\n",
    "        for i in range(0, n - p): # loop(i : 0 -> n - p - 1)\n",
    "            if arr[i] > arr[i + 1]:\n",
    "                arr[i], arr[i + 1] = arr[i + 1], arr[i]"
   ]
  },
  {
   "cell_type": "code",
   "execution_count": 4,
   "id": "8f591a2f",
   "metadata": {},
   "outputs": [
    {
     "name": "stdout",
     "output_type": "stream",
     "text": [
      "[1, 2, 3, 4, 5, 7]\n"
     ]
    }
   ],
   "source": [
    "l = [2, 7, 4, 1, 5, 3] # input list\n",
    "bubble_sort(l)\n",
    "print(l)"
   ]
  }
 ],
 "metadata": {
  "kernelspec": {
   "display_name": "Python 3",
   "language": "python",
   "name": "python3"
  },
  "language_info": {
   "codemirror_mode": {
    "name": "ipython",
    "version": 3
   },
   "file_extension": ".py",
   "mimetype": "text/x-python",
   "name": "python",
   "nbconvert_exporter": "python",
   "pygments_lexer": "ipython3",
   "version": "3.11.5"
  }
 },
 "nbformat": 4,
 "nbformat_minor": 5
}
